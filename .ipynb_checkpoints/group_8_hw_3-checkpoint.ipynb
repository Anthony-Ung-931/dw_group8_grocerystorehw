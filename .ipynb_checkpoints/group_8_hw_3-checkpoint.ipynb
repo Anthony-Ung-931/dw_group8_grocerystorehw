{
 "cells": [
  {
   "cell_type": "markdown",
   "id": "20b389b1-71c0-40f0-b9ae-4e173b7add85",
   "metadata": {},
   "source": [
    "## Data Warehousing HW 3 - Grocery Store Data Profiling\n",
    "## Anthony Ung, Sean Jerzewski, Gideon Kipkorir"
   ]
  },
  {
   "cell_type": "markdown",
   "id": "b91126bd-847e-40a8-9cc6-3e36a95026a3",
   "metadata": {},
   "source": [
    "### 0. Connecting to Database"
   ]
  },
  {
   "cell_type": "code",
   "execution_count": 22,
   "id": "1804dc98-f27f-4373-b9db-d0f26a07aaea",
   "metadata": {},
   "outputs": [
    {
     "name": "stdout",
     "output_type": "stream",
     "text": [
      "Connecting to the grocerydb database\n",
      "Database successfully connected to\n",
      "Committed row 2075\n"
     ]
    }
   ],
   "source": [
    "import sqlite3 as lite\n",
    "import csv\n",
    "\n",
    "def GroceryDatabaseAccess():\n",
    "    GroceryDatabaseAccess.grocerDBConnection\n",
    "    GroceryDatabaseAccess.groceryDBCursor\n",
    "    GroceryDatabaseAccess.salesTransactionsToCommitCount\n",
    "    GroceryDatabaseAccess.maxTransactionsBeforeCommit\n",
    "\n",
    "def init():\n",
    "    GroceryDatabaseAccess.groceryDBConnection = None\n",
    "    GroceryDatabaseAccess.groceryDBCursor = None\n",
    "    GroceryDatabaseAccess.salesTransactionsToCommitCount = 0   \n",
    "    GroceryDatabaseAccess.maxTransactionsBeforeCommit = 10000 \n",
    "\n",
    "def run():\n",
    "    print(\"Connecting to the grocerydb database\")\n",
    "    con = lite.connect(r'store.db')\n",
    "    print('Database successfully connected to')\n",
    "    GroceryDatabaseAccess.groceryDBConnection = con\n",
    "    GroceryDatabaseAccess.groceryDBCursor = con.cursor()\n",
    "\n",
    "def build_products_table():\n",
    "    sql = 'DROP TABLE IF EXISTS products'\n",
    "    GroceryDatabaseAccess.groceryDBCursor.execute(sql)\n",
    "    \n",
    "    sql = 'CREATE TABLE products(sku INT, product_name TEXT, product_type TEXT)'\n",
    "    GroceryDatabaseAccess.groceryDBCursor.execute(sql)\n",
    "\n",
    "    csv.register_dialect('piper', delimiter='|', quoting=csv.QUOTE_NONE)\n",
    "    \n",
    "    with open('Products1.txt', 'r') as csvfile:\n",
    "        i = 0\n",
    "        \n",
    "        for row in csv.DictReader(csvfile, dialect='piper'):\n",
    "            sku = row.get('SKU')\n",
    "            product_name = row.get('Product Name')\n",
    "            product_type = row.get('itemType')\n",
    "            GroceryDatabaseAccess.groceryDBCursor.execute('insert into products values (?, ?, ?)',\n",
    "                                                      (sku,product_name, product_type))\n",
    "            i += 1\n",
    "            if i % 10000 == 0:\n",
    "                GroceryDatabaseAccess.groceryDBConnection.commit()\n",
    "                print(f\"Committed row {i}\")\n",
    "            \n",
    "        GroceryDatabaseAccess.groceryDBConnection.commit()\n",
    "        print(f\"Committed row {i}\")\n",
    "\n",
    "run()\n",
    "build_products_table()"
   ]
  },
  {
   "cell_type": "markdown",
   "id": "2b5dfe83-b9d9-413f-b9dd-139fec52cdc3",
   "metadata": {},
   "source": [
    "### 0.1. Build Transactions Table"
   ]
  },
  {
   "cell_type": "code",
   "execution_count": 23,
   "id": "a585d54a-6120-4a66-b595-7a984f0196d0",
   "metadata": {},
   "outputs": [
    {
     "name": "stderr",
     "output_type": "stream",
     "text": [
      "C:\\Users\\Anthony\\AppData\\Local\\Temp\\ipykernel_25436\\3965856273.py:68: DeprecationWarning: The default date adapter is deprecated as of Python 3.12; see the sqlite3 documentation for suggested replacement recipes\n",
      "  results = cur.execute(sql, (current_date,)).fetchall()\n"
     ]
    },
    {
     "name": "stdout",
     "output_type": "stream",
     "text": [
      "2025-02-14 14:48:59.549605 - Committed transaction results for date 2024-01-01 - 1052 records committed\n",
      "2025-02-14 14:49:32.927967 - Committed transaction results for date 2024-01-31 - 1044 records committed\n",
      "2025-02-14 14:50:05.563190 - Committed transaction results for date 2024-03-01 - 1023 records committed\n",
      "2025-02-14 14:50:37.575598 - Committed transaction results for date 2024-03-31 - 1130 records committed\n",
      "2025-02-14 14:51:12.133306 - Committed transaction results for date 2024-04-30 - 1042 records committed\n",
      "2025-02-14 14:51:42.364399 - Committed transaction results for date 2024-05-30 - 1044 records committed\n",
      "2025-02-14 14:52:13.629320 - Committed transaction results for date 2024-06-29 - 1130 records committed\n",
      "2025-02-14 14:52:46.482562 - Committed transaction results for date 2024-07-29 - 1029 records committed\n",
      "2025-02-14 14:53:20.241322 - Committed transaction results for date 2024-08-28 - 1058 records committed\n",
      "2025-02-14 15:36:56.251112 - Committed transaction results for date 2024-09-27 - 1053 records committed\n",
      "2025-02-14 15:37:22.771147 - Committed transaction results for date 2024-10-27 - 1117 records committed\n",
      "2025-02-14 15:37:57.415448 - Committed transaction results for date 2024-11-26 - 1051 records committed\n",
      "2025-02-14 15:38:29.994283 - Committed transaction results for date 2024-12-26 - 1050 records committed\n"
     ]
    }
   ],
   "source": [
    "from datetime import date, datetime, timedelta\n",
    "\n",
    "\n",
    "def test_dates():\n",
    "    print('''\n",
    "            This should print the first 5 and last 5 dates.\n",
    "            I need subqueries because in SQLite, ORDER BY comes after UNION\n",
    "                and I need subqueries to order by ASC and DESC in the two parts independently.\n",
    "            In this case, we are missing the dates '2024-01-01' and '2024-12-31'.\n",
    "        ''')\n",
    "\n",
    "    \n",
    "    sql =   '''\n",
    "                SELECT * FROM\n",
    "                    (SELECT DISTINCT date\n",
    "                    FROM sales_transactions\n",
    "                    ORDER BY date ASC\n",
    "                    LIMIT 5\n",
    "                    )\n",
    "\n",
    "                UNION\n",
    "\n",
    "                SELECT * FROM\n",
    "                    (SELECT DISTINCT date\n",
    "                    FROM sales_transactions\n",
    "                    ORDER BY date DESC\n",
    "                    LIMIT 5\n",
    "                    )\n",
    "            '''\n",
    "    results = GroceryDatabaseAccess.groceryDBCursor.execute(sql)\n",
    "    for row in results:\n",
    "        print(row)\n",
    "\n",
    "def build_transactions_table():\n",
    "    cur = GroceryDatabaseAccess.groceryDBCursor\n",
    "    \n",
    "    sql = \"DROP TABLE IF EXISTS transacs\"\n",
    "    cur.execute(sql)\n",
    "\n",
    "    sql = '''\n",
    "            CREATE TABLE transactions(date VARCHAR(8), customerNumber INT, total FLOAT)\n",
    "        '''\n",
    "    cur.execute(sql)\n",
    "\n",
    "    current_date = date(2024, 1, 1)\n",
    "    end_date = date(2024, 12, 31)\n",
    "\n",
    "    \n",
    "def query():\n",
    "    cur = GroceryDatabaseAccess.groceryDBCursor\n",
    "    con = GroceryDatabaseAccess.groceryDBConnection\n",
    "    \n",
    "    \n",
    "    current_date = date(2024, 1, 1)\n",
    "    end_date = date(2024, 12, 31)\n",
    "    \n",
    "    num_days = 1\n",
    "    \n",
    "    while(current_date <= end_date):\n",
    "        sql = '''\n",
    "                SELECT date, customerNumber, ROUND(SUM(salesPrice),2) \n",
    "                FROM sales_transactions \n",
    "                WHERE date == (?)\n",
    "                GROUP BY customerNumber\n",
    "            '''\n",
    "        num_records = 0\n",
    "        \n",
    "        results = cur.execute(sql, (current_date,)).fetchall()\n",
    "        for row in results:\n",
    "            num_records += 1\n",
    "            data = (row[0], row[1], row[2])\n",
    "            cur.execute('INSERT INTO transactions VALUES (?, ?, ?)', data)\n",
    "        con.commit()\n",
    "\n",
    "        if num_days % 30 == 1:\n",
    "            print(f'{datetime.now()} - Committed transaction results for date {current_date} - {num_records} records committed')\n",
    "\n",
    "        num_days += 1\n",
    "        current_date += timedelta(1)\n",
    "    \n",
    "\n",
    "def run_0_1():\n",
    "    #test_dates()\n",
    "    build_transactions_table()\n",
    "    query()\n",
    "\n",
    "run_0_1()"
   ]
  },
  {
   "cell_type": "code",
   "execution_count": null,
   "id": "86f5a568-1f90-485f-ae15-ae71a2775a7b",
   "metadata": {},
   "outputs": [],
   "source": [
    "def test_daily_customer_counts():\n",
    "    cur = GroceryDatabaseAccess.groceryDBCursor\n",
    "\n",
    "    sql = \\\n",
    "        '''\n",
    "            WITH customer_counts AS (\n",
    "                SELECT date, COUNT (DISTINCT customerNumber)\n",
    "                FROM sales_transactions\n",
    "                GROUP BY date\n",
    "            )\n",
    "        '''\n",
    "\n",
    "\n",
    "tests = \\\n",
    "    { \\\n",
    "        'Daily Customer Counts' : True\n",
    "    }\n",
    "\n",
    "if tests['Daily Customer Counts']:\n",
    "    test_daily_customer_counts()"
   ]
  },
  {
   "cell_type": "code",
   "execution_count": 13,
   "id": "ad0d03d8-a43b-4491-a114-32ba3f9bd2eb",
   "metadata": {},
   "outputs": [
    {
     "name": "stdout",
     "output_type": "stream",
     "text": [
      "(15922,)\n",
      "(13058,)\n"
     ]
    }
   ],
   "source": [
    "def run_0_2():\n",
    "    cur = GroceryDatabaseAccess.groceryDBCursor\n",
    "    con = GroceryDatabaseAccess.groceryDBConnection\n",
    "\n",
    "    sql = '''\n",
    "            SELECT COUNT(*) AS count\n",
    "            FROM transacs\n",
    "            WHERE (textDate >= '2024-01-02') AND (textDate <= '2024-01-16')\n",
    "        '''\n",
    "\n",
    "    results = cur.execute(sql)\n",
    "    for row in results:\n",
    "        print(row)\n",
    "    \n",
    "    sql = '''\n",
    "            SELECT COUNT(*) AS count\n",
    "            FROM sales_transactions\n",
    "            JOIN products on sales_transactions.sku == products.sku\n",
    "            WHERE (date >= '2024-01-02') AND (date <= '2024-01-16') AND (product_type == 'Milk')\n",
    "        '''\n",
    "\n",
    "    results = cur.execute(sql)\n",
    "    for row in results:\n",
    "        print(row)\n",
    "\n",
    "run_0_2()"
   ]
  },
  {
   "cell_type": "code",
   "execution_count": null,
   "id": "ad033fc7-bb33-4b95-bf07-32b21894004d",
   "metadata": {},
   "outputs": [],
   "source": []
  },
  {
   "cell_type": "code",
   "execution_count": null,
   "id": "1cbd0266-f1c7-4313-a459-d890bb5aa9ce",
   "metadata": {},
   "outputs": [],
   "source": []
  },
  {
   "cell_type": "code",
   "execution_count": null,
   "id": "d3d08224-9598-4318-84b0-19aed1b8d572",
   "metadata": {},
   "outputs": [],
   "source": []
  },
  {
   "cell_type": "code",
   "execution_count": null,
   "id": "4a494d4d-8799-49ff-82f7-1e1592127df0",
   "metadata": {},
   "outputs": [],
   "source": []
  }
 ],
 "metadata": {
  "kernelspec": {
   "display_name": "Python 3 (ipykernel)",
   "language": "python",
   "name": "python3"
  },
  "language_info": {
   "codemirror_mode": {
    "name": "ipython",
    "version": 3
   },
   "file_extension": ".py",
   "mimetype": "text/x-python",
   "name": "python",
   "nbconvert_exporter": "python",
   "pygments_lexer": "ipython3",
   "version": "3.12.9"
  }
 },
 "nbformat": 4,
 "nbformat_minor": 5
}
