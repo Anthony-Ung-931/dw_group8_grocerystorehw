{
 "cells": [
  {
   "cell_type": "markdown",
   "id": "20b389b1-71c0-40f0-b9ae-4e173b7add85",
   "metadata": {},
   "source": [
    "## Data Warehousing HW 3 - Grocery Store Data Profiling\n",
    "## Anthony Ung, Sean Jerzewski, Gideon Kipkorir"
   ]
  },
  {
   "cell_type": "markdown",
   "id": "880804e0-8454-4140-a21a-3e7f5e7b4e89",
   "metadata": {},
   "source": [
    "## 0. Databse Classes of Utility Functions"
   ]
  },
  {
   "cell_type": "code",
   "execution_count": 1,
   "id": "86f5a568-1f90-485f-ae15-ae71a2775a7b",
   "metadata": {},
   "outputs": [],
   "source": [
    "import sqlite3 as lite\n",
    "\n",
    "class db:\n",
    "    con = None\n",
    "    cur = None\n",
    "    commit_pending = 0\n",
    "\n",
    "    def connect():\n",
    "        db.con = lite.connect(r'store.db')\n",
    "        db.cur = db.con.cursor()\n",
    "        print('Database Successfully Connected To')\n",
    "\n",
    "    def execute_sql(sql):\n",
    "        assert type(sql) == str, \\\n",
    "            f\"\"\"Error! This function expected a string. \n",
    "                Got {print(type(sql))} instead\"\"\"\n",
    "        return db.cur.execute(sql).fetchall()\n",
    "\n",
    "    def execute_sql_values(sql, values):\n",
    "        assert type(sql) == str, \\\n",
    "            f\"\"\"Error! This function expected a string. \n",
    "                Got {print(type(sql))} instead\"\"\"\n",
    "        assert isinstance(values, tuple), \\\n",
    "            f\"\"\"Error! This function expected a string. \n",
    "                Got {print(type(values))} instead\"\"\"\n",
    "        results = db.cur.execute(sql, values).fetchall()\n",
    "\n",
    "    def commit():\n",
    "        db.con.commit()\n",
    "        db.commit_pending = 0\n",
    "\n",
    "    def close():\n",
    "        db.con.commit()\n",
    "        db.con.close()\n",
    "        print('Database Connection Closed')\n",
    "\n",
    "\n",
    "class db_debug():\n",
    "    \n",
    "    def execute_sql(sql):\n",
    "        assert isinstance(sql, str), \\\n",
    "            f\"\"\"Error! This function expected a string. \n",
    "                Got {type(sql)} instead\"\"\"\n",
    "\n",
    "        '''\n",
    "        In my testing, the db_debug class does not play nicely with\n",
    "            the db class because even though I invoke db.connect(),\n",
    "            I still get error messages saying that the database is closed.\n",
    "        Each invocation creates its own database connection since\n",
    "            these methods are meant to be used very rarely.\n",
    "        '''\n",
    "        con = lite.connect(r'store.db')\n",
    "        cur = con.cursor()\n",
    "        \n",
    "        results = cur.execute(sql).fetchall()\n",
    "        for row in results:\n",
    "            print(row)\n",
    "\n",
    "        con.close()\n",
    "\n",
    "    def execute_sql_values(sql, values):\n",
    "        assert type(sql) == str, \\\n",
    "            f\"\"\"Error! This function expected a string. \n",
    "                Got {print(type(sql))} instead\"\"\"\n",
    "        assert isinstance(values, tuple), \\\n",
    "            f\"\"\"Error! This function expected a tuple. \n",
    "                Got {print(type(values))} instead\"\"\"\n",
    "\n",
    "        con = lite.connect(r'store.db')\n",
    "        cur = con.cursor()\n",
    "        \n",
    "        results = cur.execute(sql, values)\n",
    "        for row in results:\n",
    "            print(row)\n",
    "        \n",
    "        con.close()"
   ]
  },
  {
   "cell_type": "markdown",
   "id": "529af64d-8fc0-4f48-aa04-0f90db8a8926",
   "metadata": {},
   "source": [
    "## 0.1 - Preliminary Profiling\n",
    "Given our parameters,\n",
    "1. There should be about 15,000 transactions\n",
    "2. There should be about 10,500 transactions involving sales of milk."
   ]
  },
  {
   "cell_type": "code",
   "execution_count": 21,
   "id": "ad0d03d8-a43b-4491-a114-32ba3f9bd2eb",
   "metadata": {},
   "outputs": [
    {
     "name": "stdout",
     "output_type": "stream",
     "text": [
      "Database Successfully Connected To\n",
      "14947 transactions in database\n",
      "12314 transactions involving milk\n",
      "Database Connection Closed\n"
     ]
    }
   ],
   "source": [
    "def run_0_3():\n",
    "    db.connect()\n",
    "    \n",
    "    sql = '''\n",
    "            SELECT COUNT(*) AS count\n",
    "            FROM transactions_customers\n",
    "            WHERE (date >= '2024-01-02') AND (date <= '2024-01-15')\n",
    "        '''\n",
    "\n",
    "    results = db.execute_sql(sql)\n",
    "    for row in results:\n",
    "        print(f'{row[0]} transactions in database')\n",
    "    \n",
    "    sql = '''\n",
    "            WITH filter AS (\n",
    "                SELECT *\n",
    "                FROM transactions_sales\n",
    "                WHERE (date >= '2024-01-02') AND (date <= '2024-01-15')\n",
    "            )\n",
    "            SELECT COUNT(*) AS count\n",
    "            FROM filter\n",
    "            JOIN products on filter.sku == products.sku\n",
    "            WHERE (product_type == 'Milk')\n",
    "        '''\n",
    "\n",
    "    results = db.execute_sql(sql)\n",
    "    for row in results:\n",
    "        print(f'{row[0]} transactions involving milk')\n",
    "\n",
    "    db.close()\n",
    "\n",
    "run_0_3()"
   ]
  },
  {
   "cell_type": "markdown",
   "id": "8e1a1020-5e47-417a-87d8-f1583eb5d88e",
   "metadata": {},
   "source": [
    "## 1.1 - Average Sales Per Day\n",
    "Compute the average sales per day of each item\n",
    "\n",
    "Our parameters\n",
    "- 1020-1060 Customers Daily + 75 for Weekends\n",
    "- 1-90 Items Per Customer\n",
    "\n",
    "Assumptions Given\n",
    "- About 70% of our customers are supposed to buy milk\n",
    "  - 35% will buy milk and cereal\n",
    "  - 1.5% will buy cereal but no milk\n",
    "- 20% will buy baby food\n",
    "  - 16% will buy baby food and diapers\n",
    "  - 0.8% will buy diapers but no baby food\n",
    "- 50% will buy bread\n",
    "- 10% will buy peanut butter\n",
    "  - 9% will buy peanut butter + jam/jelly\n",
    "  - 4.5% will buy jam + jelly but no peanut butter\n",
    "- All other products should be equally likely"
   ]
  },
  {
   "cell_type": "code",
   "execution_count": 22,
   "id": "1cbd0266-f1c7-4313-a459-d890bb5aa9ce",
   "metadata": {},
   "outputs": [
    {
     "name": "stdout",
     "output_type": "stream",
     "text": [
      "('Whole Milk Milk', 'Milk', 160)\n",
      "('Whole Milk Milk', 'Milk', 159)\n",
      "('2.00% Milk', 'Milk', 158)\n",
      "('1.00% Milk', 'Milk', 158)\n",
      "('2.00% Milk', 'Milk', 153)\n",
      "('1.00% Milk', 'Milk', 150)\n",
      "('Squeeze Jelly Grape', 'Jelly/Jam', 65)\n",
      "('Jelly Grape', 'Jelly/Jam', 63)\n",
      "('Jam Grape', 'Jelly/Jam', 63)\n",
      "('Jam Strawberry', 'Jelly/Jam', 59)\n",
      "('Swirl Oatmeal Bread Apple & Cinnamon', 'Bread', 39)\n",
      "('Farmhouse Bread Oatmeal', 'Bread', 39)\n",
      "('Bread Swirl Raisin Cinnamon', 'Bread', 39)\n",
      "('Italian Bread With Sesame Seeds', 'Bread', 38)\n",
      "('Sandwich Thins Honey Wheat', 'Bread', 37)\n",
      "('Ezekiel 4:9 Bread Whole Grain', 'Bread', 37)\n",
      "('Bread Cinnamon Raisin Swirl', 'Bread', 37)\n",
      "('Whole Grain Bread 100% Wheat Bread', 'Bread', 37)\n",
      "('Swirl Bread French Toast', 'Bread', 37)\n",
      "('Light Style Bread 7 Grain', 'Bread', 37)\n",
      "('Farmhouse Bread Sourdough', 'Bread', 37)\n",
      "('Bread White Original', 'Bread', 37)\n",
      "('Bread Honey Wheat', 'Bread', 37)\n",
      "('Sandwich Thins Potato Rolls', 'Bread', 36)\n",
      "('Ezekiel 4:9 Bread Sesame Sprouted Grain', 'Bread', 36)\n"
     ]
    }
   ],
   "source": [
    "def run_1_1():\n",
    "    \n",
    "    sql = '''\n",
    "            WITH selected_transacs AS (\n",
    "                SELECT *\n",
    "                FROM transactions_sales\n",
    "                WHERE (date >= '2024-01-02') AND (date <= '2024-01-16')\n",
    "            )\n",
    "            SELECT \n",
    "                products.product_name, \n",
    "                products.product_type,\n",
    "                count(*)/14 AS count\n",
    "            FROM products\n",
    "            JOIN selected_transacs USING(sku)\n",
    "            GROUP BY products.sku\n",
    "            ORDER BY count DESC\n",
    "            LIMIT 25\n",
    "        '''\n",
    "\n",
    "    db_debug.execute_sql(sql)\n",
    "\n",
    "run_1_1()"
   ]
  },
  {
   "cell_type": "markdown",
   "id": "e1ac247b-3b3f-49ac-90e6-529583a2d675",
   "metadata": {},
   "source": [
    "## 1.1 - Average Sales Per Item Type Per Day\n",
    "It may also be valuable to see the numbers of each product type sold per day"
   ]
  },
  {
   "cell_type": "code",
   "execution_count": 23,
   "id": "4a494d4d-8799-49ff-82f7-1e1592127df0",
   "metadata": {},
   "outputs": [
    {
     "name": "stdout",
     "output_type": "stream",
     "text": [
      "('Baby Food', 3784)\n",
      "('Cereal', 2443)\n",
      "('Diapers', 2011)\n",
      "('Bread', 1600)\n",
      "('Milk', 879)\n",
      "('Peanut Butter', 550)\n",
      "('Jelly/Jam', 235)\n"
     ]
    }
   ],
   "source": [
    "def run_1_1a():\n",
    "    \n",
    "    sql = '''\n",
    "            WITH selected_transacs AS (\n",
    "                SELECT *\n",
    "                FROM transactions_sales\n",
    "                WHERE (date >= '2024-01-02') AND (date <= '2024-01-15')\n",
    "            )\n",
    "            SELECT \n",
    "                products.product_type,\n",
    "                count(*)/14 AS count\n",
    "            FROM products\n",
    "            JOIN selected_transacs USING(sku)\n",
    "            GROUP BY products.product_type\n",
    "            HAVING products.product_type IN ('Milk', 'Cereal', 'Diapers', 'Baby Food', 'Bread', 'Peanut Butter', 'Jelly/Jam')\n",
    "            ORDER BY count DESC\n",
    "        '''\n",
    "\n",
    "    db_debug.execute_sql(sql)\n",
    "\n",
    "run_1_1a()"
   ]
  },
  {
   "cell_type": "markdown",
   "id": "7f6e1754-0d91-4863-ba54-4c5f9b89b4bc",
   "metadata": {},
   "source": [
    "## 1.1 - Average Sales Per Item Type Per Transaction Per Day\n",
    "It may also be valuable to see the numbers of each product type sold per transaction per day"
   ]
  },
  {
   "cell_type": "code",
   "execution_count": 24,
   "id": "7f84acb7-962e-46f9-a994-3a60d6b84723",
   "metadata": {},
   "outputs": [
    {
     "name": "stdout",
     "output_type": "stream",
     "text": [
      "('Baby Food', 994)\n",
      "('Cereal', 952)\n",
      "('Bread', 896)\n",
      "('Diapers', 867)\n",
      "('Milk', 841)\n",
      "('Peanut Butter', 441)\n",
      "('Jelly/Jam', 234)\n"
     ]
    }
   ],
   "source": [
    "def run_1_1b():\n",
    "   \n",
    "    sql = '''\n",
    "            WITH selected_transacs AS (\n",
    "                SELECT date, customerNumber, sku\n",
    "                FROM transactions_sales\n",
    "                WHERE (date >= '2024-01-02') AND (date <= '2024-01-16')\n",
    "            ),\n",
    "            type_counts_per_transaction AS (\n",
    "                SELECT date, customerNumber, products.product_type AS type, COUNT(*) as count\n",
    "                FROM selected_transacs\n",
    "                JOIN products USING(sku)\n",
    "                GROUP BY date, customerNumber, products.product_type\n",
    "            ),\n",
    "            type_frequencies_per_day AS (\n",
    "                SELECT type, COUNT(*)/14 AS freq\n",
    "                FROM type_counts_per_transaction\n",
    "                GROUP BY type\n",
    "                HAVING type IN ('Milk', 'Cereal', 'Diapers', 'Baby Food', 'Bread', 'Peanut Butter', 'Jelly/Jam')\n",
    "                ORDER BY freq DESC\n",
    "            )\n",
    "            SELECT * from type_frequencies_per_day\n",
    "        '''\n",
    "\n",
    "    db_debug.execute_sql(sql)\n",
    "\n",
    "run_1_1b()"
   ]
  },
  {
   "cell_type": "code",
   "execution_count": 19,
   "id": "ea38f011-abbc-4aba-ae05-4379374d9b71",
   "metadata": {},
   "outputs": [
    {
     "name": "stdout",
     "output_type": "stream",
     "text": [
      "('Baby Food', 930)\n",
      "('Cereal', 891)\n",
      "('Bread', 837)\n",
      "('Diapers', 810)\n",
      "('Milk', 786)\n",
      "('Peanut Butter', 412)\n",
      "('Jelly/Jam', 219)\n"
     ]
    }
   ],
   "source": [
    "def run_test():\n",
    "\n",
    "    sql = '''\n",
    "            WITH selected_transacs AS (\n",
    "                SELECT date, customerNumber, sku\n",
    "                FROM transactions_sales\n",
    "                WHERE (date >= '2024-01-02') AND (date <= '2024-01-15')\n",
    "            ),\n",
    "            type_counts_per_transaction AS (\n",
    "                SELECT date, customerNumber, products.product_type AS type, COUNT(*) as count\n",
    "                FROM selected_transacs\n",
    "                JOIN products USING(sku)\n",
    "                GROUP BY date, customerNumber, products.product_type\n",
    "            ),\n",
    "            type_frequencies_per_day AS (\n",
    "                SELECT type, COUNT(*)/14 AS freq\n",
    "                FROM type_counts_per_transaction\n",
    "                GROUP BY type\n",
    "                HAVING type IN ('Milk', 'Cereal', 'Diapers', 'Baby Food', 'Bread', 'Peanut Butter', 'Jelly/Jam')\n",
    "                ORDER BY freq DESC\n",
    "            )\n",
    "            SELECT * from type_frequencies_per_day\n",
    "        '''\n",
    "\n",
    "    db_debug.execute_sql(sql)\n",
    "\n",
    "run_test()"
   ]
  },
  {
   "cell_type": "markdown",
   "id": "7890a790-ef1d-40be-ba95-4d127f95673c",
   "metadata": {},
   "source": [
    "## Average number of customer numbers per day"
   ]
  },
  {
   "cell_type": "code",
   "execution_count": 27,
   "id": "dceeca05-2def-4bad-9590-5c0167064197",
   "metadata": {},
   "outputs": [
    {
     "name": "stdout",
     "output_type": "stream",
     "text": [
      "(1068.0,)\n"
     ]
    }
   ],
   "source": [
    "def run_test():\n",
    "\n",
    "    sql = '''\n",
    "            WITH customers_per_day AS (\n",
    "                SELECT date, MAX(customerNumber) as numCustomers\n",
    "                FROM transactions_sales\n",
    "                WHERE (date >= '2024-01-02') AND (date <= '2024-01-15')\n",
    "                GROUP BY date\n",
    "            )\n",
    "            SELECT ROUND(AVG(numCustomers), 0)\n",
    "            FROM customers_per_day\n",
    "        '''\n",
    "\n",
    "    db_debug.execute_sql(sql)\n",
    "\n",
    "run_test()"
   ]
  },
  {
   "cell_type": "markdown",
   "id": "50065ec3-a9e3-4729-9af6-673b76d0b69f",
   "metadata": {},
   "source": [
    "## Average Number of Items Sold Per Day"
   ]
  },
  {
   "cell_type": "code",
   "execution_count": 30,
   "id": "d779ea66-c06b-4355-967c-385d4b473136",
   "metadata": {},
   "outputs": [
    {
     "name": "stdout",
     "output_type": "stream",
     "text": [
      "(48126.0,)\n"
     ]
    }
   ],
   "source": [
    "def run_test():\n",
    "\n",
    "    sql = '''\n",
    "            WITH customers_per_day AS (\n",
    "                SELECT date, COUNT(*) as itemsSold\n",
    "                FROM transactions_sales\n",
    "                WHERE (date >= '2024-01-02') AND (date <= '2024-01-15')\n",
    "                GROUP BY date\n",
    "            )\n",
    "            SELECT ROUND(AVG(itemsSold), 0)\n",
    "            FROM customers_per_day\n",
    "        '''\n",
    "\n",
    "    db_debug.execute_sql(sql)\n",
    "\n",
    "run_test()"
   ]
  },
  {
   "cell_type": "markdown",
   "id": "e8475ba3-8b21-490b-8330-708a5b0be85a",
   "metadata": {},
   "source": [
    "## Minimum and Maximum for non-special items"
   ]
  },
  {
   "cell_type": "code",
   "execution_count": 33,
   "id": "d4a71580-1d53-46ad-9855-2f1f9c9ee315",
   "metadata": {},
   "outputs": [
    {
     "name": "stdout",
     "output_type": "stream",
     "text": [
      "(258, 379)\n"
     ]
    }
   ],
   "source": [
    "def run_test():\n",
    "    \n",
    "    sql = '''\n",
    "            WITH items_sold AS (\n",
    "                SELECT sku\n",
    "                FROM transactions_sales\n",
    "                WHERE (date >= '2024-01-02') AND (date <= '2024-01-15')\n",
    "            ),\n",
    "            items_sold_count AS (\n",
    "                SELECT sku, COUNT(*) as count\n",
    "                FROM items_sold\n",
    "                GROUP BY sku\n",
    "            ),\n",
    "            filtered_items_list AS (\n",
    "                SELECT isc.sku, isc.count AS count, p.product_type\n",
    "                FROM items_sold_count AS isc\n",
    "                JOIN products AS p USING(sku)\n",
    "                WHERE p.product_type NOT IN ('Milk', 'Cereal', 'Diapers', 'Baby Food', 'Bread', 'Peanut Butter', 'Jelly/Jam')\n",
    "            )\n",
    "            SELECT MIN(fil.count), MAX(fil.count) FROM filtered_items_list AS fil\n",
    "        '''\n",
    "    \n",
    "    db_debug.execute_sql(sql)\n",
    "\n",
    "run_test()"
   ]
  },
  {
   "cell_type": "code",
   "execution_count": 34,
   "id": "b41ec104-73ef-4a7d-9132-6d5de97c9ac1",
   "metadata": {},
   "outputs": [
    {
     "name": "stdout",
     "output_type": "stream",
     "text": [
      "('Baby Food', 162)\n",
      "('Bread', 48)\n",
      "('Cereal', 93)\n",
      "('Diapers', 82)\n",
      "('Jelly/Jam', 4)\n",
      "('Milk', 6)\n",
      "('Peanut Butter', 20)\n"
     ]
    }
   ],
   "source": [
    "def run_test():\n",
    "\n",
    "    sql = '''\n",
    "            SELECT p.product_type, COUNT(*)\n",
    "            FROM products AS p\n",
    "            WHERE p.product_type IN ('Milk', 'Cereal', 'Diapers', 'Baby Food', 'Bread', 'Peanut Butter', 'Jelly/Jam')\n",
    "            GROUP BY p.product_type\n",
    "        '''\n",
    "    \n",
    "    db_debug.execute_sql(sql)\n",
    "\n",
    "run_test()"
   ]
  },
  {
   "cell_type": "code",
   "execution_count": 35,
   "id": "aedb8921-9797-4bc7-a6e7-81ffa9b1ffdf",
   "metadata": {},
   "outputs": [
    {
     "name": "stdout",
     "output_type": "stream",
     "text": [
      "('',)\n",
      "('Acetominifen',)\n",
      "('Aspirin',)\n",
      "('Baby Food',)\n",
      "('Baked Goods Other than Bread',)\n",
      "('Baking Supplies',)\n",
      "('Bologna',)\n",
      "('Bread',)\n",
      "('Cake Snacks',)\n",
      "('Cake/Baking Mixes',)\n",
      "('Candy',)\n",
      "('Canned Fruit',)\n",
      "('Canned Goods',)\n",
      "('Canned Vegetables',)\n",
      "('Cereal',)\n",
      "('Cheese',)\n",
      "('Chocolate Candy',)\n",
      "('Cleaners',)\n",
      "('Coffee/Creamer',)\n",
      "('Cookies',)\n",
      "('Cooking Oil',)\n",
      "('Cottage Cheese',)\n",
      "('Deli Meats',)\n",
      "('Deli Salads',)\n",
      "('Deodorizers',)\n",
      "('Diapers',)\n",
      "('Dips',)\n",
      "('Drink',)\n",
      "('French Fries',)\n",
      "('Fresh Chicken',)\n",
      "('Fresh Fish',)\n",
      "('Fresh Fruit',)\n",
      "('Fresh Vegetables',)\n",
      "('Frozen Chicken',)\n",
      "('Frozen Food',)\n",
      "('Frozen Vegetables',)\n",
      "('Gravy/Sauce',)\n",
      "('Hamburger',)\n",
      "('Hard Candy',)\n",
      "('Hot Dogs',)\n",
      "('Household',)\n",
      "('Ibuprofen',)\n",
      "('Ice Cream',)\n",
      "('Jelly/Jam',)\n",
      "('Juice',)\n",
      "('Mac & Cheese',)\n",
      "('Milk',)\n",
      "('Mouthwash',)\n",
      "('Nuts',)\n",
      "('Other Dairy/Not Milk',)\n",
      "('Pasta/Noodles',)\n",
      "('Peanut Butter',)\n",
      "('Pet Food',)\n",
      "('Pizza',)\n",
      "('Popcorn',)\n",
      "('Popsicles',)\n",
      "('Produce',)\n",
      "('Rice',)\n",
      "('Rice/Rice Mix',)\n",
      "('Salad Dressing',)\n",
      "('Sardines',)\n",
      "('Snacks',)\n",
      "('Soda',)\n",
      "('Soda/Juice/Drinks',)\n",
      "('Soup',)\n",
      "('Sour Cream',)\n",
      "('Spices',)\n",
      "('Stuffing',)\n",
      "('Sugar',)\n",
      "('TV Dinner',)\n",
      "('Tofu',)\n",
      "('Tuna',)\n",
      "('Yogurt',)\n"
     ]
    }
   ],
   "source": [
    "def run_test():\n",
    "\n",
    "    sql = '''\n",
    "            SELECT DISTINCT p.product_type\n",
    "            FROM products AS p\n",
    "            ORDER BY 1 ASC\n",
    "        '''\n",
    "    \n",
    "    db_debug.execute_sql(sql)\n",
    "\n",
    "run_test()"
   ]
  },
  {
   "cell_type": "code",
   "execution_count": 37,
   "id": "b7f4cdcf-3cbc-4922-bb67-47a4379d6404",
   "metadata": {},
   "outputs": [
    {
     "name": "stdout",
     "output_type": "stream",
     "text": [
      "(673760,)\n"
     ]
    }
   ],
   "source": [
    "def run_test():\n",
    "    \n",
    "    sql = '''\n",
    "            WITH items_sold AS (\n",
    "                SELECT sku\n",
    "                FROM transactions_sales\n",
    "                WHERE (date >= '2024-01-02') AND (date <= '2024-01-15')\n",
    "            )\n",
    "            SELECT COUNT(*) FROM items_sold\n",
    "        '''\n",
    "    \n",
    "    db_debug.execute_sql(sql)\n",
    "\n",
    "run_test()"
   ]
  },
  {
   "cell_type": "code",
   "execution_count": null,
   "id": "506946a0-4688-49bd-9cb0-35cfe3215e30",
   "metadata": {},
   "outputs": [],
   "source": []
  }
 ],
 "metadata": {
  "kernelspec": {
   "display_name": "Python 3 (ipykernel)",
   "language": "python",
   "name": "python3"
  },
  "language_info": {
   "codemirror_mode": {
    "name": "ipython",
    "version": 3
   },
   "file_extension": ".py",
   "mimetype": "text/x-python",
   "name": "python",
   "nbconvert_exporter": "python",
   "pygments_lexer": "ipython3",
   "version": "3.12.9"
  }
 },
 "nbformat": 4,
 "nbformat_minor": 5
}
