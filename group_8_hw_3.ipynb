{
 "cells": [
  {
   "cell_type": "markdown",
   "id": "20b389b1-71c0-40f0-b9ae-4e173b7add85",
   "metadata": {},
   "source": [
    "## Data Warehousing HW 3 - Grocery Store Data Profiling\n",
    "## Anthony Ung, Sean Jerzewski, Gideon Kipkorir"
   ]
  },
  {
   "cell_type": "markdown",
   "id": "b91126bd-847e-40a8-9cc6-3e36a95026a3",
   "metadata": {},
   "source": [
    "### 0. Connecting to Database"
   ]
  },
  {
   "cell_type": "code",
   "execution_count": 1,
   "id": "1804dc98-f27f-4373-b9db-d0f26a07aaea",
   "metadata": {},
   "outputs": [
    {
     "name": "stdout",
     "output_type": "stream",
     "text": [
      "Connecting to the grocerydb database\n",
      "Database successfully connected to\n"
     ]
    }
   ],
   "source": [
    "import sqlite3 as lite\n",
    "import csv\n",
    "\n",
    "def GroceryDatabaseAccess():\n",
    "    GroceryDatabaseAccess.grocerDBConnection\n",
    "    GroceryDatabaseAccess.groceryDBCursor\n",
    "    GroceryDatabaseAccess.salesTransactionsToCommitCount\n",
    "    GroceryDatabaseAccess.maxTransactionsBeforeCommit\n",
    "\n",
    "def init():\n",
    "    GroceryDatabaseAccess.groceryDBConnection = None\n",
    "    GroceryDatabaseAccess.groceryDBCursor = None\n",
    "    GroceryDatabaseAccess.salesTransactionsToCommitCount = 0   \n",
    "    GroceryDatabaseAccess.maxTransactionsBeforeCommit = 10000 \n",
    "\n",
    "def run():\n",
    "    print(\"Connecting to the grocerydb database\")\n",
    "    con = lite.connect(r'store.db')\n",
    "    print('Database successfully connected to')\n",
    "    GroceryDatabaseAccess.groceryDBConnection = con\n",
    "    GroceryDatabaseAccess.groceryDBCursor = con.cursor()\n",
    "\n",
    "def build_products_table():\n",
    "    sql = 'DROP TABLE IF EXISTS products'\n",
    "    GroceryDatabaseAccess.groceryDBCursor.execute(sql)\n",
    "    \n",
    "    sql = 'CREATE TABLE products(sku INT, product_name TEXT, product_type TEXT)'\n",
    "    GroceryDatabaseAccess.groceryDBCursor.execute(sql)\n",
    "\n",
    "    csv.register_dialect('piper', delimiter='|', quoting=csv.QUOTE_NONE)\n",
    "    \n",
    "    with open('Products1.txt', 'r') as csvfile:\n",
    "        i = 0\n",
    "        \n",
    "        for row in csv.DictReader(csvfile, dialect='piper'):\n",
    "            sku = row.get('SKU')\n",
    "            product_name = row.get('Product Name')\n",
    "            product_type = row.get('itemType')\n",
    "            GroceryDatabaseAccess.groceryDBCursor.execute('insert into products values (?, ?, ?)',\n",
    "                                                      (sku,product_name, product_type))\n",
    "            i += 1\n",
    "            if i % 10000 == 0:\n",
    "                GroceryDatabaseAccess.groceryDBConnection.commit()\n",
    "                print(f\"Committed row {i}\")\n",
    "            \n",
    "        GroceryDatabaseAccess.groceryDBConnection.commit()\n",
    "        print(f\"Committed row {i}\")\n",
    "\n",
    "run()"
   ]
  },
  {
   "cell_type": "markdown",
   "id": "2b5dfe83-b9d9-413f-b9dd-139fec52cdc3",
   "metadata": {},
   "source": [
    "### 0.1. Build Transactions Table"
   ]
  },
  {
   "cell_type": "code",
   "execution_count": 3,
   "id": "a585d54a-6120-4a66-b595-7a984f0196d0",
   "metadata": {},
   "outputs": [
    {
     "name": "stderr",
     "output_type": "stream",
     "text": [
      "C:\\Users\\Anthony\\AppData\\Local\\Temp\\ipykernel_17380\\3616095981.py:68: DeprecationWarning: The default date adapter is deprecated as of Python 3.12; see the sqlite3 documentation for suggested replacement recipes\n",
      "  results = cur.execute(sql, (current_date,)).fetchall()\n"
     ]
    },
    {
     "name": "stdout",
     "output_type": "stream",
     "text": [
      "2025-02-17 12:10:07.359552 - Committed transaction results for date 2024-01-01 - 1052 records committed\n",
      "2025-02-17 12:10:42.735042 - Committed transaction results for date 2024-01-31 - 1044 records committed\n",
      "2025-02-17 12:11:18.066887 - Committed transaction results for date 2024-03-01 - 1023 records committed\n",
      "2025-02-17 12:11:53.491544 - Committed transaction results for date 2024-03-31 - 1130 records committed\n",
      "2025-02-17 12:12:27.989817 - Committed transaction results for date 2024-04-30 - 1042 records committed\n",
      "2025-02-17 12:13:04.346983 - Committed transaction results for date 2024-05-30 - 1044 records committed\n",
      "2025-02-17 12:13:38.222962 - Committed transaction results for date 2024-06-29 - 1130 records committed\n",
      "2025-02-17 12:14:13.450154 - Committed transaction results for date 2024-07-29 - 1029 records committed\n",
      "2025-02-17 12:14:50.588741 - Committed transaction results for date 2024-08-28 - 1058 records committed\n",
      "2025-02-17 12:15:25.116392 - Committed transaction results for date 2024-09-27 - 1053 records committed\n",
      "2025-02-17 12:16:00.528999 - Committed transaction results for date 2024-10-27 - 1117 records committed\n",
      "2025-02-17 12:16:35.076970 - Committed transaction results for date 2024-11-26 - 1051 records committed\n",
      "2025-02-17 12:17:10.553934 - Committed transaction results for date 2024-12-26 - 1050 records committed\n"
     ]
    }
   ],
   "source": [
    "from datetime import date, datetime, timedelta\n",
    "\n",
    "\n",
    "def test_dates():\n",
    "    print('''\n",
    "            This should print the first 5 and last 5 dates.\n",
    "            I need subqueries because in SQLite, ORDER BY comes after UNION\n",
    "                and I need subqueries to order by ASC and DESC in the two parts independently.\n",
    "            In this case, we are missing the dates '2024-01-01' and '2024-12-31'.\n",
    "        ''')\n",
    "\n",
    "    \n",
    "    sql =   '''\n",
    "                SELECT * FROM\n",
    "                    (SELECT DISTINCT date\n",
    "                    FROM sales_transactions\n",
    "                    ORDER BY date ASC\n",
    "                    LIMIT 5\n",
    "                    )\n",
    "\n",
    "                UNION\n",
    "\n",
    "                SELECT * FROM\n",
    "                    (SELECT DISTINCT date\n",
    "                    FROM sales_transactions\n",
    "                    ORDER BY date DESC\n",
    "                    LIMIT 5\n",
    "                    )\n",
    "            '''\n",
    "    results = GroceryDatabaseAccess.groceryDBCursor.execute(sql)\n",
    "    for row in results:\n",
    "        print(row)\n",
    "\n",
    "def build_transactions_table():\n",
    "    cur = GroceryDatabaseAccess.groceryDBCursor\n",
    "    \n",
    "    sql = \"DROP TABLE IF EXISTS transactions\"\n",
    "    cur.execute(sql)\n",
    "\n",
    "    sql = '''\n",
    "            CREATE TABLE transactions(date VARCHAR(8), customerNumber INT, total FLOAT)\n",
    "        '''\n",
    "    cur.execute(sql)\n",
    "\n",
    "    current_date = date(2024, 1, 1)\n",
    "    end_date = date(2024, 12, 31)\n",
    "\n",
    "    \n",
    "def query():\n",
    "    cur = GroceryDatabaseAccess.groceryDBCursor\n",
    "    con = GroceryDatabaseAccess.groceryDBConnection\n",
    "    \n",
    "    \n",
    "    current_date = date(2024, 1, 1)\n",
    "    end_date = date(2024, 12, 31)\n",
    "    \n",
    "    num_days = 1\n",
    "    \n",
    "    while(current_date <= end_date):\n",
    "        sql = '''\n",
    "                SELECT date, customerNumber, ROUND(SUM(salesPrice),2) \n",
    "                FROM sales_transactions \n",
    "                WHERE date == (?)\n",
    "                GROUP BY customerNumber\n",
    "            '''\n",
    "        num_records = 0\n",
    "        \n",
    "        results = cur.execute(sql, (current_date,)).fetchall()\n",
    "        for row in results:\n",
    "            num_records += 1\n",
    "            data = (row[0], row[1], row[2])\n",
    "            cur.execute('INSERT INTO transactions VALUES (?, ?, ?)', data)\n",
    "        con.commit()\n",
    "\n",
    "        if num_days % 30 == 1:\n",
    "            print(f'{datetime.now()} - Committed transaction results for date {current_date} - {num_records} records committed')\n",
    "\n",
    "        num_days += 1\n",
    "        current_date += timedelta(1)\n",
    "    \n",
    "\n",
    "def run_0_1():\n",
    "    #test_dates()\n",
    "    build_transactions_table()\n",
    "    query()\n",
    "\n",
    "run_0_1()"
   ]
  },
  {
   "cell_type": "markdown",
   "id": "880804e0-8454-4140-a21a-3e7f5e7b4e89",
   "metadata": {},
   "source": [
    "## 0.2 - Various tests"
   ]
  },
  {
   "cell_type": "code",
   "execution_count": 4,
   "id": "86f5a568-1f90-485f-ae15-ae71a2775a7b",
   "metadata": {},
   "outputs": [],
   "source": [
    "def test_daily_customer_counts():\n",
    "    cur = GroceryDatabaseAccess.groceryDBCursor\n",
    "\n",
    "    sql = \\\n",
    "        '''\n",
    "            WITH customer_counts AS (\n",
    "                SELECT date, COUNT (DISTINCT customerNumber)\n",
    "                FROM sales_transactions\n",
    "                GROUP BY date\n",
    "            )\n",
    "        '''\n",
    "\n",
    "\n",
    "tests = \\\n",
    "    { \\\n",
    "        'Daily Customer Counts' : True\n",
    "    }\n",
    "\n",
    "if tests['Daily Customer Counts']:\n",
    "    test_daily_customer_counts()"
   ]
  },
  {
   "cell_type": "markdown",
   "id": "529af64d-8fc0-4f48-aa04-0f90db8a8926",
   "metadata": {},
   "source": [
    "## 0.3 - Preliminary Profiling\n",
    "Given our parameters,\n",
    "1. There should be about 15,000 transactions\n",
    "2. There should be about 10,500 transactions involving sales of milk."
   ]
  },
  {
   "cell_type": "code",
   "execution_count": 5,
   "id": "ad0d03d8-a43b-4491-a114-32ba3f9bd2eb",
   "metadata": {},
   "outputs": [
    {
     "name": "stdout",
     "output_type": "stream",
     "text": [
      "14791 transactions in database\n",
      "12161 transactions involving milk\n"
     ]
    }
   ],
   "source": [
    "def run_0_3():\n",
    "    cur = GroceryDatabaseAccess.groceryDBCursor\n",
    "    con = GroceryDatabaseAccess.groceryDBConnection\n",
    "\n",
    "    sql = '''\n",
    "            SELECT COUNT(*) AS count\n",
    "            FROM transactions\n",
    "            WHERE (date >= '2024-01-02') AND (date <= '2024-01-15')\n",
    "        '''\n",
    "\n",
    "    results = cur.execute(sql)\n",
    "    for row in results:\n",
    "        print(f'{row[0]} transactions in database')\n",
    "    \n",
    "    sql = '''\n",
    "            SELECT COUNT(*) AS count\n",
    "            FROM sales_transactions\n",
    "            JOIN products on sales_transactions.sku == products.sku\n",
    "            WHERE (date >= '2024-01-02') AND (date <= '2024-01-15') AND (product_type == 'Milk')\n",
    "        '''\n",
    "\n",
    "    results = cur.execute(sql)\n",
    "    for row in results:\n",
    "        print(f'{row[0]} transactions involving milk')\n",
    "\n",
    "run_0_3()"
   ]
  },
  {
   "cell_type": "markdown",
   "id": "8e1a1020-5e47-417a-87d8-f1583eb5d88e",
   "metadata": {},
   "source": [
    "## 1.1 - Average Sales Per Day\n",
    "Compute the average sales per day of each item\n",
    "\n",
    "Our parameters\n",
    "- 1020-1060 Customers Daily + 75 for Weekends\n",
    "- 1-90 Items Per Customer\n",
    "\n",
    "Assumptions Given\n",
    "- About 70% of our customers are supposed to buy milk\n",
    "  - 35% will buy milk and cereal\n",
    "  - 1.5% will buy cereal but no milk\n",
    "- 20% will buy baby food\n",
    "  - 16% will buy baby food and diapers\n",
    "  - 0.8% will buy diapers but no baby food\n",
    "- 50% will buy bread\n",
    "- 10% will buy peanut butter\n",
    "  - 9% will buy peanut butter + jam/jelly\n",
    "  - 4.5% will buy jam + jelly but no peanut butter\n",
    "- All other products should be equally likely"
   ]
  },
  {
   "cell_type": "code",
   "execution_count": 6,
   "id": "1cbd0266-f1c7-4313-a459-d890bb5aa9ce",
   "metadata": {},
   "outputs": [
    {
     "name": "stdout",
     "output_type": "stream",
     "text": [
      "('1.00% Milk', 'Milk', 160)\n",
      "('2.00% Milk', 'Milk', 158)\n",
      "('1.00% Milk', 'Milk', 157)\n",
      "('Whole Milk Milk', 'Milk', 153)\n",
      "('Whole Milk Milk', 'Milk', 151)\n",
      "('2.00% Milk', 'Milk', 151)\n",
      "('Squeeze Jelly Grape', 'Jelly/Jam', 62)\n",
      "('Jelly Grape', 'Jelly/Jam', 61)\n",
      "('Jam Strawberry', 'Jelly/Jam', 60)\n",
      "('Jam Grape', 'Jelly/Jam', 59)\n",
      "('Farmhouse Bread Potato', 'Bread', 39)\n",
      "('Ezekiel 4:9 Bread Sesame Sprouted Grain', 'Bread', 38)\n",
      "('Whole Grain Bread 100% Wheat Bread', 'Bread', 38)\n",
      "('Flatbread Angus Cheeseburgers', 'Bread', 38)\n",
      "('Bread Honey Wheat', 'Bread', 38)\n",
      "('Sandwich Thins Potato Rolls', 'Bread', 37)\n",
      "('Swirl Oatmeal Bread Apple & Cinnamon', 'Bread', 37)\n",
      "('Light Style Bread Soft Wheat', 'Bread', 37)\n",
      "('Italian Bread With Sesame Seeds', 'Bread', 37)\n",
      "('Farmhouse Bread Oatmeal', 'Bread', 37)\n",
      "('Bread Swirl Raisin Cinnamon', 'Bread', 37)\n",
      "('Bread Texas Toast', 'Bread', 37)\n",
      "('Bread Amazin Raisin', 'Bread', 37)\n",
      "('Sandwich Thins Whole Wheat', 'Bread', 36)\n",
      "('Whole Grain Bread Honey Wheat', 'Bread', 36)\n"
     ]
    }
   ],
   "source": [
    "def run_1_1():\n",
    "    cur = GroceryDatabaseAccess.groceryDBCursor\n",
    "    con = GroceryDatabaseAccess.groceryDBConnection\n",
    "\n",
    "    sql = '''\n",
    "            WITH selected_transacs AS (\n",
    "                SELECT *\n",
    "                FROM sales_transactions\n",
    "                WHERE (date >= '2024-01-02') AND (date <= '2024-01-16')\n",
    "            )\n",
    "            SELECT \n",
    "                products.product_name, \n",
    "                products.product_type,\n",
    "                count(*)/14 AS count\n",
    "            FROM products\n",
    "            JOIN selected_transacs USING(sku)\n",
    "            GROUP BY products.sku\n",
    "            ORDER BY count DESC\n",
    "            LIMIT 25\n",
    "        '''\n",
    "\n",
    "    results = cur.execute(sql)\n",
    "    for row in results:\n",
    "        print(row)\n",
    "\n",
    "run_1_1()"
   ]
  },
  {
   "cell_type": "markdown",
   "id": "e1ac247b-3b3f-49ac-90e6-529583a2d675",
   "metadata": {},
   "source": [
    "## 1.1 - Average Sales Per Item Type Per Day\n",
    "It may also be valuable to see the numbers of each product type sold per day"
   ]
  },
  {
   "cell_type": "code",
   "execution_count": 7,
   "id": "4a494d4d-8799-49ff-82f7-1e1592127df0",
   "metadata": {},
   "outputs": [
    {
     "name": "stdout",
     "output_type": "stream",
     "text": [
      "('Baby Food', 3803)\n",
      "('Cereal', 2440)\n",
      "('Diapers', 1997)\n",
      "('Bread', 1607)\n",
      "('Milk', 868)\n",
      "('Peanut Butter', 547)\n",
      "('Jelly/Jam', 229)\n"
     ]
    }
   ],
   "source": [
    "def run_1_1a():\n",
    "    cur = GroceryDatabaseAccess.groceryDBCursor\n",
    "    con = GroceryDatabaseAccess.groceryDBConnection\n",
    "\n",
    "    sql = '''\n",
    "            WITH selected_transacs AS (\n",
    "                SELECT *\n",
    "                FROM sales_transactions\n",
    "                WHERE (date >= '2024-01-02') AND (date <= '2024-01-15')\n",
    "            )\n",
    "            SELECT \n",
    "                products.product_type,\n",
    "                count(*)/14 AS count\n",
    "            FROM products\n",
    "            JOIN selected_transacs USING(sku)\n",
    "            GROUP BY products.product_type\n",
    "            HAVING products.product_type IN ('Milk', 'Cereal', 'Diapers', 'Baby Food', 'Bread', 'Peanut Butter', 'Jelly/Jam')\n",
    "            ORDER BY count DESC\n",
    "        '''\n",
    "\n",
    "    results = cur.execute(sql)\n",
    "    for row in results:\n",
    "        print(row)\n",
    "\n",
    "run_1_1a()"
   ]
  },
  {
   "cell_type": "markdown",
   "id": "7f6e1754-0d91-4863-ba54-4c5f9b89b4bc",
   "metadata": {},
   "source": [
    "## 1.1 - Average Sales Per Item Type Per Transaction Per Day\n",
    "It may also be valuable to see the numbers of each product type sold per transaction per day"
   ]
  },
  {
   "cell_type": "code",
   "execution_count": 8,
   "id": "7f84acb7-962e-46f9-a994-3a60d6b84723",
   "metadata": {},
   "outputs": [
    {
     "name": "stdout",
     "output_type": "stream",
     "text": [
      "('Baby Food', 991)\n",
      "('Cereal', 950)\n",
      "('Bread', 892)\n",
      "('Diapers', 865)\n",
      "('Milk', 838)\n",
      "('Peanut Butter', 440)\n",
      "('Jelly/Jam', 226)\n"
     ]
    }
   ],
   "source": [
    "def run_1_1b():\n",
    "    cur = GroceryDatabaseAccess.groceryDBCursor\n",
    "    con = GroceryDatabaseAccess.groceryDBConnection\n",
    "\n",
    "    sql = '''\n",
    "            WITH selected_transacs AS (\n",
    "                SELECT date, customerNumber, sku\n",
    "                FROM sales_transactions\n",
    "                WHERE (date >= '2024-01-02') AND (date <= '2024-01-16')\n",
    "            ),\n",
    "            type_counts_per_transaction AS (\n",
    "                SELECT date, customerNumber, products.product_type AS type, COUNT(*) as count\n",
    "                FROM selected_transacs\n",
    "                JOIN products USING(sku)\n",
    "                GROUP BY date, customerNumber, products.product_type\n",
    "            ),\n",
    "            type_frequencies_per_day AS (\n",
    "                SELECT type, COUNT(*)/14 AS freq\n",
    "                FROM type_counts_per_transaction\n",
    "                GROUP BY type\n",
    "                HAVING type IN ('Milk', 'Cereal', 'Diapers', 'Baby Food', 'Bread', 'Peanut Butter', 'Jelly/Jam')\n",
    "                ORDER BY freq DESC\n",
    "            )\n",
    "            SELECT * from type_frequencies_per_day\n",
    "        '''\n",
    "\n",
    "    results = cur.execute(sql)\n",
    "    for row in results:\n",
    "        print(row)\n",
    "\n",
    "run_1_1b()"
   ]
  },
  {
   "cell_type": "code",
   "execution_count": null,
   "id": "ea38f011-abbc-4aba-ae05-4379374d9b71",
   "metadata": {},
   "outputs": [],
   "source": [
    "def run_test():\n",
    "    cur = GroceryDatabaseAccess.groceryDBCursor\n",
    "    con = GroceryDatabaseAccess.groceryDBConnection\n",
    "\n",
    "    sql = '''\n",
    "            WITH selected_transacs AS (\n",
    "                SELECT date, customerNumber, sku\n",
    "                FROM sales_transactions\n",
    "                WHERE (date >= '2024-01-02') AND (date <= '2024-01-15')\n",
    "            ),\n",
    "            type_counts_per_transaction AS (\n",
    "                SELECT date, customerNumber, products.product_type AS type, COUNT(*) as count\n",
    "                FROM selected_transacs\n",
    "                JOIN products USING(sku)\n",
    "                GROUP BY date, customerNumber, products.product_type\n",
    "            ),\n",
    "            type_frequencies_per_day AS (\n",
    "                SELECT type, COUNT(*)/14 AS freq\n",
    "                FROM type_counts_per_transaction\n",
    "                GROUP BY type\n",
    "                HAVING type IN ('Milk', 'Cereal', 'Diapers', 'Baby Food', 'Bread', 'Peanut Butter', 'Jelly/Jam')\n",
    "                ORDER BY freq DESC\n",
    "            )\n",
    "            SELECT * from type_frequencies_per_day\n",
    "        '''\n",
    "\n",
    "    results = cur.execute(sql)\n",
    "    for row in results:\n",
    "        print(row)\n",
    "\n",
    "run_test()"
   ]
  },
  {
   "cell_type": "markdown",
   "id": "7890a790-ef1d-40be-ba95-4d127f95673c",
   "metadata": {},
   "source": [
    "## Average number of customer numbers per day"
   ]
  },
  {
   "cell_type": "code",
   "execution_count": 17,
   "id": "dceeca05-2def-4bad-9590-5c0167064197",
   "metadata": {},
   "outputs": [
    {
     "name": "stdout",
     "output_type": "stream",
     "text": [
      "(1056.5,)\n"
     ]
    }
   ],
   "source": [
    "def run_test():\n",
    "    cur = GroceryDatabaseAccess.groceryDBCursor\n",
    "    con = GroceryDatabaseAccess.groceryDBConnection\n",
    "\n",
    "    sql = '''\n",
    "            WITH customers_per_day AS (\n",
    "                SELECT date, MAX(customerNumber) as numCustomers\n",
    "                FROM sales_transactions\n",
    "                WHERE (date >= '2024-01-02') AND (date <= '2024-01-15')\n",
    "                GROUP BY date\n",
    "            )\n",
    "            SELECT AVG(numCustomers)\n",
    "            FROM customers_per_day\n",
    "        '''\n",
    "\n",
    "    results = cur.execute(sql)\n",
    "    for row in results:\n",
    "        print(row)\n",
    "\n",
    "run_test()"
   ]
  },
  {
   "cell_type": "markdown",
   "id": "50065ec3-a9e3-4729-9af6-673b76d0b69f",
   "metadata": {},
   "source": [
    "## Average Number of Items Sold Per Day"
   ]
  },
  {
   "cell_type": "code",
   "execution_count": 20,
   "id": "d779ea66-c06b-4355-967c-385d4b473136",
   "metadata": {},
   "outputs": [
    {
     "name": "stdout",
     "output_type": "stream",
     "text": [
      "(48094.0,)\n"
     ]
    }
   ],
   "source": [
    "def run_test():\n",
    "    cur = GroceryDatabaseAccess.groceryDBCursor\n",
    "    con = GroceryDatabaseAccess.groceryDBConnection\n",
    "\n",
    "    sql = '''\n",
    "            WITH customers_per_day AS (\n",
    "                SELECT date, COUNT(*) as itemsSold\n",
    "                FROM sales_transactions\n",
    "                WHERE (date >= '2024-01-02') AND (date <= '2024-01-15')\n",
    "                GROUP BY date\n",
    "            )\n",
    "            SELECT ROUND(AVG(itemsSold), 0)\n",
    "            FROM customers_per_day\n",
    "        '''\n",
    "\n",
    "    results = cur.execute(sql)\n",
    "    for row in results:\n",
    "        print(row)\n",
    "\n",
    "run_test()"
   ]
  },
  {
   "cell_type": "markdown",
   "id": "e8475ba3-8b21-490b-8330-708a5b0be85a",
   "metadata": {},
   "source": [
    "## Minimum and Maximum for non-special items"
   ]
  },
  {
   "cell_type": "code",
   "execution_count": 33,
   "id": "d4a71580-1d53-46ad-9855-2f1f9c9ee315",
   "metadata": {},
   "outputs": [
    {
     "name": "stdout",
     "output_type": "stream",
     "text": [
      "(252, 366)\n"
     ]
    }
   ],
   "source": [
    "def run_test():\n",
    "    cur = GroceryDatabaseAccess.groceryDBCursor\n",
    "    con = GroceryDatabaseAccess.groceryDBConnection\n",
    "\n",
    "    sql = '''\n",
    "            WITH items_sold AS (\n",
    "                SELECT sku\n",
    "                FROM sales_transactions\n",
    "                WHERE (date >= '2024-01-02') AND (date <= '2024-01-15')\n",
    "            ),\n",
    "            items_sold_count AS (\n",
    "                SELECT sku, COUNT(*) as count\n",
    "                FROM items_sold\n",
    "                GROUP BY sku\n",
    "            ),\n",
    "            filtered_items_list AS (\n",
    "                SELECT isc.sku, isc.count AS count, p.product_type\n",
    "                FROM items_sold_count AS isc\n",
    "                JOIN products AS p USING(sku)\n",
    "                WHERE p.product_type NOT IN ('Milk', 'Cereal', 'Diapers', 'Baby Food', 'Bread', 'Peanut Butter', 'Jelly/Jam')\n",
    "            )\n",
    "            SELECT MIN(fil.count), MAX(fil.count) FROM filtered_items_list AS fil\n",
    "        '''\n",
    "    \n",
    "    results = cur.execute(sql)\n",
    "    for row in results:\n",
    "        print(row)\n",
    "\n",
    "run_test()"
   ]
  },
  {
   "cell_type": "code",
   "execution_count": 40,
   "id": "b41ec104-73ef-4a7d-9132-6d5de97c9ac1",
   "metadata": {},
   "outputs": [
    {
     "name": "stdout",
     "output_type": "stream",
     "text": [
      "('Baby Food', 162)\n",
      "('Bread', 48)\n",
      "('Cereal', 93)\n",
      "('Diapers', 82)\n",
      "('Jelly/Jam', 4)\n",
      "('Milk', 6)\n",
      "('Peanut Butter', 20)\n"
     ]
    }
   ],
   "source": [
    "def run_test():\n",
    "    cur = GroceryDatabaseAccess.groceryDBCursor\n",
    "    con = GroceryDatabaseAccess.groceryDBConnection\n",
    "\n",
    "    sql = '''\n",
    "            SELECT p.product_type, COUNT(*)\n",
    "            FROM products AS p\n",
    "            WHERE p.product_type IN ('Milk', 'Cereal', 'Diapers', 'Baby Food', 'Bread', 'Peanut Butter', 'Jelly/Jam')\n",
    "            GROUP BY p.product_type\n",
    "        '''\n",
    "    \n",
    "    results = cur.execute(sql)\n",
    "    for row in results:\n",
    "        print(row)\n",
    "\n",
    "run_test()"
   ]
  },
  {
   "cell_type": "code",
   "execution_count": 42,
   "id": "aedb8921-9797-4bc7-a6e7-81ffa9b1ffdf",
   "metadata": {},
   "outputs": [
    {
     "name": "stdout",
     "output_type": "stream",
     "text": [
      "('',)\n",
      "('Acetominifen',)\n",
      "('Aspirin',)\n",
      "('Baby Food',)\n",
      "('Baked Goods Other than Bread',)\n",
      "('Baking Supplies',)\n",
      "('Bologna',)\n",
      "('Bread',)\n",
      "('Cake Snacks',)\n",
      "('Cake/Baking Mixes',)\n",
      "('Candy',)\n",
      "('Canned Fruit',)\n",
      "('Canned Goods',)\n",
      "('Canned Vegetables',)\n",
      "('Cereal',)\n",
      "('Cheese',)\n",
      "('Chocolate Candy',)\n",
      "('Cleaners',)\n",
      "('Coffee/Creamer',)\n",
      "('Cookies',)\n",
      "('Cooking Oil',)\n",
      "('Cottage Cheese',)\n",
      "('Deli Meats',)\n",
      "('Deli Salads',)\n",
      "('Deodorizers',)\n",
      "('Diapers',)\n",
      "('Dips',)\n",
      "('Drink',)\n",
      "('French Fries',)\n",
      "('Fresh Chicken',)\n",
      "('Fresh Fish',)\n",
      "('Fresh Fruit',)\n",
      "('Fresh Vegetables',)\n",
      "('Frozen Chicken',)\n",
      "('Frozen Food',)\n",
      "('Frozen Vegetables',)\n",
      "('Gravy/Sauce',)\n",
      "('Hamburger',)\n",
      "('Hard Candy',)\n",
      "('Hot Dogs',)\n",
      "('Household',)\n",
      "('Ibuprofen',)\n",
      "('Ice Cream',)\n",
      "('Jelly/Jam',)\n",
      "('Juice',)\n",
      "('Mac & Cheese',)\n",
      "('Milk',)\n",
      "('Mouthwash',)\n",
      "('Nuts',)\n",
      "('Other Dairy/Not Milk',)\n",
      "('Pasta/Noodles',)\n",
      "('Peanut Butter',)\n",
      "('Pet Food',)\n",
      "('Pizza',)\n",
      "('Popcorn',)\n",
      "('Popsicles',)\n",
      "('Produce',)\n",
      "('Rice',)\n",
      "('Rice/Rice Mix',)\n",
      "('Salad Dressing',)\n",
      "('Sardines',)\n",
      "('Snacks',)\n",
      "('Soda',)\n",
      "('Soda/Juice/Drinks',)\n",
      "('Soup',)\n",
      "('Sour Cream',)\n",
      "('Spices',)\n",
      "('Stuffing',)\n",
      "('Sugar',)\n",
      "('TV Dinner',)\n",
      "('Tofu',)\n",
      "('Tuna',)\n",
      "('Yogurt',)\n"
     ]
    }
   ],
   "source": [
    "def run_test():\n",
    "    cur = GroceryDatabaseAccess.groceryDBCursor\n",
    "    con = GroceryDatabaseAccess.groceryDBConnection\n",
    "\n",
    "    sql = '''\n",
    "            SELECT DISTINCT p.product_type\n",
    "            FROM products AS p\n",
    "            ORDER BY 1 ASC\n",
    "        '''\n",
    "    \n",
    "    results = cur.execute(sql)\n",
    "    for row in results:\n",
    "        print(row)\n",
    "\n",
    "run_test()"
   ]
  },
  {
   "cell_type": "code",
   "execution_count": 44,
   "id": "b7f4cdcf-3cbc-4922-bb67-47a4379d6404",
   "metadata": {},
   "outputs": [
    {
     "name": "stdout",
     "output_type": "stream",
     "text": [
      "(673319,)\n"
     ]
    }
   ],
   "source": [
    "def run_test():\n",
    "    cur = GroceryDatabaseAccess.groceryDBCursor\n",
    "    con = GroceryDatabaseAccess.groceryDBConnection\n",
    "\n",
    "    sql = '''\n",
    "            WITH items_sold AS (\n",
    "                SELECT sku\n",
    "                FROM sales_transactions\n",
    "                WHERE (date >= '2024-01-02') AND (date <= '2024-01-15')\n",
    "            )\n",
    "            SELECT COUNT(*) FROM items_sold\n",
    "        '''\n",
    "    \n",
    "    results = cur.execute(sql)\n",
    "    for row in results:\n",
    "        print(row)\n",
    "\n",
    "run_test()"
   ]
  },
  {
   "cell_type": "code",
   "execution_count": null,
   "id": "506946a0-4688-49bd-9cb0-35cfe3215e30",
   "metadata": {},
   "outputs": [],
   "source": []
  }
 ],
 "metadata": {
  "kernelspec": {
   "display_name": "Python 3 (ipykernel)",
   "language": "python",
   "name": "python3"
  },
  "language_info": {
   "codemirror_mode": {
    "name": "ipython",
    "version": 3
   },
   "file_extension": ".py",
   "mimetype": "text/x-python",
   "name": "python",
   "nbconvert_exporter": "python",
   "pygments_lexer": "ipython3",
   "version": "3.12.9"
  }
 },
 "nbformat": 4,
 "nbformat_minor": 5
}
