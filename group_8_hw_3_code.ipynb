{
 "cells": [
  {
   "cell_type": "markdown",
   "id": "20b389b1-71c0-40f0-b9ae-4e173b7add85",
   "metadata": {},
   "source": [
    "## Data Warehousing HW 3 - Grocery Store Data Profiling\n",
    "## Anthony Ung, Sean Jerzewski, Gideon Kipkorir\n",
    "### This is the code we used to generate the numbers in our spreadsheet."
   ]
  },
  {
   "cell_type": "markdown",
   "id": "024e10c3-b5d7-42d7-b98e-b4852d112137",
   "metadata": {},
   "source": [
    "ALL TABLE DEFINITIONS  \n",
    "    'products': 'CREATE TABLE products(sku INT, product_name TEXT, product_type TEXT)',  \n",
    "    'transactions_sales': 'CREATE TABLE transactions_sales(date TEXT, customerNumber INT, sku INT, salesPrice REAL)',  \n",
    "    'transactions_customers': 'CREATE TABLE transactions_customers(date VARCHAR(8), customerNumber INT, total FLOAT)'  "
   ]
  },
  {
   "cell_type": "markdown",
   "id": "880804e0-8454-4140-a21a-3e7f5e7b4e89",
   "metadata": {},
   "source": [
    "## 0. Databse Classes of Utility Functions\n",
    "### IMPORTANT: You need to run this cell to make the the other cells runnable."
   ]
  },
  {
   "cell_type": "code",
   "execution_count": 1,
   "id": "86f5a568-1f90-485f-ae15-ae71a2775a7b",
   "metadata": {},
   "outputs": [],
   "source": [
    "import sqlite3 as lite\n",
    "\n",
    "class db:\n",
    "    con = None\n",
    "    cur = None\n",
    "    commit_pending = 0\n",
    "\n",
    "    def connect():\n",
    "        db.con = lite.connect(r'store.db')\n",
    "        db.cur = db.con.cursor()\n",
    "        print('Database Successfully Connected To')\n",
    "\n",
    "    def execute_sql(sql):\n",
    "        assert type(sql) == str, \\\n",
    "            f\"\"\"Error! This function expected a string. \n",
    "                Got {print(type(sql))} instead\"\"\"\n",
    "        return db.cur.execute(sql).fetchall()\n",
    "\n",
    "    def execute_sql_values(sql, values):\n",
    "        assert type(sql) == str, \\\n",
    "            f\"\"\"Error! This function expected a string. \n",
    "                Got {print(type(sql))} instead\"\"\"\n",
    "        assert isinstance(values, tuple), \\\n",
    "            f\"\"\"Error! This function expected a string. \n",
    "                Got {print(type(values))} instead\"\"\"\n",
    "        results = db.cur.execute(sql, values).fetchall()\n",
    "\n",
    "    def commit():\n",
    "        db.con.commit()\n",
    "        db.commit_pending = 0\n",
    "\n",
    "    def close():\n",
    "        db.con.commit()\n",
    "        db.con.close()\n",
    "        print('Database Connection Closed')\n",
    "\n",
    "\n",
    "class db_debug():\n",
    "    \n",
    "    def execute_sql(sql):\n",
    "        assert isinstance(sql, str), \\\n",
    "            f\"\"\"Error! This function expected a string. \n",
    "                Got {type(sql)} instead\"\"\"\n",
    "\n",
    "        '''\n",
    "        In my testing, the db_debug class does not play nicely with\n",
    "            the db class because even though I invoke db.connect(),\n",
    "            I still get error messages saying that the database is closed.\n",
    "        Each invocation creates its own database connection since\n",
    "            these methods are meant to be used very rarely.\n",
    "        '''\n",
    "        con = lite.connect(r'store.db')\n",
    "        cur = con.cursor()\n",
    "        \n",
    "        results = cur.execute(sql).fetchall()\n",
    "        for row in results:\n",
    "            print(row)\n",
    "\n",
    "        con.close()\n",
    "\n",
    "    def execute_sql_values(sql, values):\n",
    "        assert type(sql) == str, \\\n",
    "            f\"\"\"Error! This function expected a string. \n",
    "                Got {print(type(sql))} instead\"\"\"\n",
    "        assert isinstance(values, tuple), \\\n",
    "            f\"\"\"Error! This function expected a tuple. \n",
    "                Got {print(type(values))} instead\"\"\"\n",
    "\n",
    "        con = lite.connect(r'store.db')\n",
    "        cur = con.cursor()\n",
    "        \n",
    "        results = cur.execute(sql, values)\n",
    "        for row in results:\n",
    "            print(row)\n",
    "        \n",
    "        con.close()"
   ]
  },
  {
   "cell_type": "markdown",
   "id": "529af64d-8fc0-4f48-aa04-0f90db8a8926",
   "metadata": {},
   "source": [
    "## 1.0 - Preliminary Profiling\n",
    "Take each of the special items Milk, baby food etc. and compute how many should sell per day given your parameters.  \n",
    "Do the same for the non-special items  \n",
    "(you can lump these together. Don’t do a separate line for 2000 items)  \n",
    "  \n",
    "Table 1 (Expected Probabilities of Each Item Type) in the spreadsheet shows the numbers I expect.\n",
    "For the \"Other\", I computed the expected values of special items and then I subtracted those totals from the average sales per day after I did the other computations."
   ]
  },
  {
   "cell_type": "markdown",
   "id": "8e1a1020-5e47-417a-87d8-f1583eb5d88e",
   "metadata": {},
   "source": [
    "## 1.1 - Average Sales Per Day\n",
    "Compute the average sales per day of each item\n",
    "\n",
    "Our parameters\n",
    "- 1020-1060 Customers Daily + 75 for Weekends\n",
    "- 1-90 Items Per Customer\n",
    "\n",
    "Assumptions Given\n",
    "- About 70% of our customers are supposed to buy milk\n",
    "  - 35% will buy milk and cereal\n",
    "  - 1.5% will buy cereal but no milk\n",
    "- 20% will buy baby food\n",
    "  - 16% will buy baby food and diapers\n",
    "  - 0.8% will buy diapers but no baby food\n",
    "- 50% will buy bread\n",
    "- 10% will buy peanut butter\n",
    "  - 9% will buy peanut butter + jam/jelly\n",
    "  - 4.5% will buy jam + jelly but no peanut butter\n",
    "- All other products should be equally likely"
   ]
  },
  {
   "cell_type": "code",
   "execution_count": 2,
   "id": "1cbd0266-f1c7-4313-a459-d890bb5aa9ce",
   "metadata": {},
   "outputs": [
    {
     "name": "stdout",
     "output_type": "stream",
     "text": [
      "(149, 'Milk', 'Whole Milk Milk')\n",
      "(149, 'Milk', 'Whole Milk Milk')\n",
      "(148, 'Milk', '1.00% Milk')\n",
      "(147, 'Milk', '2.00% Milk')\n",
      "(143, 'Milk', '2.00% Milk')\n",
      "(141, 'Milk', '1.00% Milk')\n",
      "(61, 'Jelly/Jam', 'Squeeze Jelly Grape')\n",
      "(59, 'Jelly/Jam', 'Jelly Grape')\n",
      "(58, 'Jelly/Jam', 'Jam Grape')\n",
      "(55, 'Jelly/Jam', 'Jam Strawberry')\n",
      "(37, 'Bread', 'Swirl Oatmeal Bread Apple & Cinnamon')\n",
      "(36, 'Bread', 'Farmhouse Bread Oatmeal')\n",
      "(36, 'Bread', 'Bread Swirl Raisin Cinnamon')\n",
      "(35, 'Bread', 'Bread Cinnamon Raisin Swirl')\n",
      "(35, 'Bread', 'Whole Grain Bread 100% Wheat Bread')\n",
      "(35, 'Bread', 'Light Style Bread 7 Grain')\n",
      "(35, 'Bread', 'Italian Bread With Sesame Seeds')\n",
      "(35, 'Bread', 'Farmhouse Bread Sourdough')\n",
      "(35, 'Bread', 'Bread Honey Wheat')\n",
      "(34, 'Bread', 'Sandwich Thins Potato Rolls')\n",
      "(34, 'Bread', 'Sandwich Thins Honey Wheat')\n",
      "(34, 'Bread', 'Ezekiel 4:9 Bread Whole Grain')\n",
      "(34, 'Bread', 'Ezekiel 4:9 Bread Sesame Sprouted Grain')\n",
      "(34, 'Bread', 'Very Thin Bread White')\n",
      "(34, 'Bread', 'Swirl Bread Raisin Cinnamon')\n"
     ]
    }
   ],
   "source": [
    "def run_1_1():\n",
    "    \n",
    "    sql = '''\n",
    "            WITH selected_transacs AS (\n",
    "                SELECT *\n",
    "                FROM transactions_sales\n",
    "                WHERE (date >= '2024-01-02') AND (date <= '2024-01-15')\n",
    "            ),\n",
    "            selected_products AS (\n",
    "                SELECT\n",
    "                    product_type AS type,\n",
    "                    product_name AS name,\n",
    "                    sku\n",
    "                FROM products\n",
    "            )\n",
    "            SELECT COUNT(*)/14 AS count, type, name\n",
    "            FROM selected_transacs\n",
    "            JOIN selected_products USING(sku)\n",
    "            GROUP BY sku\n",
    "            ORDER BY count DESC\n",
    "            LIMIT 25\n",
    "        '''\n",
    "    \n",
    "    db_debug.execute_sql(sql)\n",
    "\n",
    "run_1_1()"
   ]
  },
  {
   "cell_type": "markdown",
   "id": "e1ac247b-3b3f-49ac-90e6-529583a2d675",
   "metadata": {},
   "source": [
    "## 1.1 - Average Sales Per Item Type Per Day\n",
    "It may also be valuable to see the numbers of each product type sold per day"
   ]
  },
  {
   "cell_type": "code",
   "execution_count": 3,
   "id": "4a494d4d-8799-49ff-82f7-1e1592127df0",
   "metadata": {},
   "outputs": [
    {
     "name": "stdout",
     "output_type": "stream",
     "text": [
      "(3784, 'Baby Food')\n",
      "(2443, 'Cereal')\n",
      "(2011, 'Diapers')\n",
      "(1600, 'Bread')\n",
      "(879, 'Milk')\n",
      "(550, 'Peanut Butter')\n",
      "(235, 'Jelly/Jam')\n"
     ]
    }
   ],
   "source": [
    "def run_1_1a():\n",
    "    \n",
    "    sql = '''\n",
    "            WITH selected_transacs AS (\n",
    "                SELECT *\n",
    "                FROM transactions_sales\n",
    "                WHERE (date >= '2024-01-02') AND (date <= '2024-01-15')\n",
    "            ),\n",
    "            selected_products AS (\n",
    "                SELECT sku, product_type AS type\n",
    "                from products\n",
    "                WHERE products.product_type IN ('Milk', 'Cereal', 'Diapers', 'Baby Food', 'Bread', 'Peanut Butter', 'Jelly/Jam')\n",
    "            )\n",
    "            SELECT \n",
    "                count(*)/14 AS count,\n",
    "                sp.type AS type\n",
    "            FROM selected_transacs\n",
    "            JOIN selected_products AS sp USING(sku)\n",
    "            GROUP BY sp.type\n",
    "            ORDER BY count DESC\n",
    "        '''\n",
    "\n",
    "    db_debug.execute_sql(sql)\n",
    "\n",
    "run_1_1a()"
   ]
  },
  {
   "cell_type": "markdown",
   "id": "7f6e1754-0d91-4863-ba54-4c5f9b89b4bc",
   "metadata": {},
   "source": [
    "## 1.1 - Average Sales Per Item Type Per Transaction Per Day\n",
    "It may also be valuable to see the numbers of each product type sold per transaction per day"
   ]
  },
  {
   "cell_type": "code",
   "execution_count": 4,
   "id": "7f84acb7-962e-46f9-a994-3a60d6b84723",
   "metadata": {},
   "outputs": [
    {
     "name": "stdout",
     "output_type": "stream",
     "text": [
      "(930, 'Baby Food')\n",
      "(891, 'Cereal')\n",
      "(837, 'Bread')\n",
      "(810, 'Diapers')\n",
      "(786, 'Milk')\n",
      "(412, 'Peanut Butter')\n",
      "(219, 'Jelly/Jam')\n"
     ]
    }
   ],
   "source": [
    "def run_1_1b():\n",
    "   \n",
    "    sql = '''\n",
    "            WITH selected_transacs AS (\n",
    "                SELECT date, customerNumber, sku\n",
    "                FROM transactions_sales\n",
    "                WHERE (date >= '2024-01-02') AND (date <= '2024-01-15')\n",
    "            ),\n",
    "            selected_products AS (\n",
    "                SELECT sku, product_type AS type\n",
    "                FROM products\n",
    "                WHERE product_type IN ('Milk', 'Cereal', 'Diapers', 'Baby Food', 'Bread', 'Peanut Butter', 'Jelly/Jam')\n",
    "            ),\n",
    "            type_counts_per_transaction AS (\n",
    "                SELECT date, customerNumber, type, COUNT(*) as count\n",
    "                FROM selected_transacs\n",
    "                JOIN selected_products USING(sku)\n",
    "                GROUP BY date, customerNumber, type\n",
    "            ),\n",
    "            type_frequencies_per_day AS (\n",
    "                SELECT COUNT(*)/14 AS freq, type\n",
    "                FROM type_counts_per_transaction\n",
    "                GROUP BY type\n",
    "                ORDER BY freq DESC\n",
    "            )\n",
    "            SELECT * from type_frequencies_per_day\n",
    "        '''\n",
    "\n",
    "    db_debug.execute_sql(sql)\n",
    "\n",
    "run_1_1b()"
   ]
  },
  {
   "cell_type": "markdown",
   "id": "7890a790-ef1d-40be-ba95-4d127f95673c",
   "metadata": {},
   "source": [
    "## Average number of customers per day"
   ]
  },
  {
   "cell_type": "code",
   "execution_count": 5,
   "id": "dceeca05-2def-4bad-9590-5c0167064197",
   "metadata": {},
   "outputs": [
    {
     "name": "stdout",
     "output_type": "stream",
     "text": [
      "('Average Customer Count Per Day', 1068.0)\n"
     ]
    }
   ],
   "source": [
    "def run_test():\n",
    "\n",
    "    sql = '''\n",
    "            WITH customers_per_day AS (\n",
    "                SELECT date, MAX(customerNumber) as numCustomers\n",
    "                FROM transactions_sales\n",
    "                WHERE (date >= '2024-01-02') AND (date <= '2024-01-15')\n",
    "                GROUP BY date\n",
    "            )\n",
    "            SELECT 'Average Customer Count Per Day', ROUND(AVG(numCustomers), 0)\n",
    "            FROM customers_per_day\n",
    "        '''\n",
    "\n",
    "    db_debug.execute_sql(sql)\n",
    "\n",
    "run_test()"
   ]
  },
  {
   "cell_type": "markdown",
   "id": "50065ec3-a9e3-4729-9af6-673b76d0b69f",
   "metadata": {},
   "source": [
    "## Average Number of Items Sold Per Day"
   ]
  },
  {
   "cell_type": "code",
   "execution_count": 6,
   "id": "d779ea66-c06b-4355-967c-385d4b473136",
   "metadata": {},
   "outputs": [
    {
     "name": "stdout",
     "output_type": "stream",
     "text": [
      "('Average Number of Items Sold Per Day', 48126.0)\n"
     ]
    }
   ],
   "source": [
    "def run_test():\n",
    "\n",
    "    sql = '''\n",
    "            WITH customers_per_day AS (\n",
    "                SELECT date, COUNT(*) as itemsSold\n",
    "                FROM transactions_sales\n",
    "                WHERE (date >= '2024-01-02') AND (date <= '2024-01-15')\n",
    "                GROUP BY date\n",
    "            )\n",
    "            SELECT 'Average Number of Items Sold Per Day', ROUND(AVG(itemsSold), 0)\n",
    "            FROM customers_per_day\n",
    "        '''\n",
    "\n",
    "    db_debug.execute_sql(sql)\n",
    "\n",
    "run_test()"
   ]
  },
  {
   "cell_type": "markdown",
   "id": "e8475ba3-8b21-490b-8330-708a5b0be85a",
   "metadata": {},
   "source": [
    "## Minimum and Maximum for non-special items"
   ]
  },
  {
   "cell_type": "code",
   "execution_count": 7,
   "id": "d4a71580-1d53-46ad-9855-2f1f9c9ee315",
   "metadata": {},
   "outputs": [
    {
     "name": "stdout",
     "output_type": "stream",
     "text": [
      "('Minimum:', 18.0, 'Maximum', 27.0)\n"
     ]
    }
   ],
   "source": [
    "def run_test():\n",
    "    \n",
    "    sql = '''\n",
    "            WITH items_sold AS (\n",
    "                SELECT sku\n",
    "                FROM transactions_sales\n",
    "                WHERE (date >= '2024-01-02') AND (date <= '2024-01-15')\n",
    "            ),\n",
    "            selected_products AS (\n",
    "                SELECT *\n",
    "                FROM products AS p\n",
    "                WHERE p.product_type NOT IN ('Milk', 'Cereal', 'Diapers', 'Baby Food', 'Bread', 'Peanut Butter', 'Jelly/Jam')\n",
    "            ),\n",
    "            items_sold_count AS (\n",
    "                SELECT sku, COUNT(*) as count\n",
    "                FROM items_sold\n",
    "                GROUP BY sku\n",
    "            ),\n",
    "            filtered_items_list AS (\n",
    "                SELECT isc.sku, ROUND(isc.count/14, 0) AS count, sp.product_type\n",
    "                FROM items_sold_count AS isc\n",
    "                JOIN selected_products AS sp USING(sku)\n",
    "            )\n",
    "            SELECT 'Minimum:', MIN(fil.count), 'Maximum', MAX(fil.count) FROM filtered_items_list AS fil\n",
    "        '''\n",
    "    \n",
    "    db_debug.execute_sql(sql)\n",
    "\n",
    "run_test()"
   ]
  },
  {
   "cell_type": "markdown",
   "id": "84fe7346-9acb-43e2-8e7f-3c4436fb13d1",
   "metadata": {},
   "source": [
    "## Count per Itemm Type"
   ]
  },
  {
   "cell_type": "code",
   "execution_count": 8,
   "id": "b41ec104-73ef-4a7d-9132-6d5de97c9ac1",
   "metadata": {},
   "outputs": [
    {
     "name": "stdout",
     "output_type": "stream",
     "text": [
      "(162, 'Baby Food')\n",
      "(48, 'Bread')\n",
      "(93, 'Cereal')\n",
      "(82, 'Diapers')\n",
      "(4, 'Jelly/Jam')\n",
      "(6, 'Milk')\n",
      "(20, 'Peanut Butter')\n"
     ]
    }
   ],
   "source": [
    "def run_test():\n",
    "\n",
    "    sql = '''\n",
    "            SELECT COUNT(*), p.product_type\n",
    "            FROM products AS p\n",
    "            WHERE p.product_type IN ('Milk', 'Cereal', 'Diapers', 'Baby Food', 'Bread', 'Peanut Butter', 'Jelly/Jam')\n",
    "            GROUP BY p.product_type\n",
    "        '''\n",
    "    \n",
    "    db_debug.execute_sql(sql)\n",
    "\n",
    "run_test()"
   ]
  },
  {
   "cell_type": "code",
   "execution_count": null,
   "id": "9e8061ca-1647-4506-9c4a-1283030e1ff3",
   "metadata": {},
   "outputs": [],
   "source": []
  }
 ],
 "metadata": {
  "kernelspec": {
   "display_name": "Python 3 (ipykernel)",
   "language": "python",
   "name": "python3"
  },
  "language_info": {
   "codemirror_mode": {
    "name": "ipython",
    "version": 3
   },
   "file_extension": ".py",
   "mimetype": "text/x-python",
   "name": "python",
   "nbconvert_exporter": "python",
   "pygments_lexer": "ipython3",
   "version": "3.12.9"
  }
 },
 "nbformat": 4,
 "nbformat_minor": 5
}
