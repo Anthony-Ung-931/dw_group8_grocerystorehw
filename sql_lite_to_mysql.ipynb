{
 "cells": [
  {
   "cell_type": "markdown",
   "id": "926ee004-0acb-4bd1-be91-c06cefd4c009",
   "metadata": {},
   "source": [
    "#### Converting a sqlite db to MySql database"
   ]
  },
  {
   "cell_type": "code",
   "execution_count": null,
   "id": "9ae0d512-37e2-4fd5-9a26-923c335c25c9",
   "metadata": {},
   "outputs": [],
   "source": [
    "# Install a pymsql library on jupyter notebook\n",
    "!pip install pymysql"
   ]
  },
  {
   "cell_type": "code",
   "execution_count": 12,
   "id": "9531999a-3507-48c0-8b55-ff344c070e44",
   "metadata": {},
   "outputs": [
    {
     "name": "stdout",
     "output_type": "stream",
     "text": [
      "Data transferred from SQLite to MySQL successfully!\n"
     ]
    }
   ],
   "source": [
    "import sqlite3\n",
    "import pandas as pd\n",
    "from sqlalchemy import create_engine\n",
    "\n",
    "# Connect to SQLite\n",
    "sqlite_db_path = 'store-g.db'  # Replace with your SQLite database file path\n",
    "sqlite_conn = sqlite3.connect(sqlite_db_path)\n",
    "\n",
    "# Connect to MySQL\n",
    "mysql_username = 'root'  # Replace with your MySQL username\n",
    "mysql_password = 'password'  # Replace with your MySQL password\n",
    "mysql_host = 'localhost'          # Replace with your MySQL host\n",
    "mysql_database = 'store_schema'  # Replace with your MySQL database name\n",
    "mysql_engine = create_engine(f'mysql+pymysql://{mysql_username}:{mysql_password}@{mysql_host}/{mysql_database}')\n",
    "# mysql_engine = create_engine(f'mysql+mysqlconnector://{mysql_username}:{mysql_password}@{mysql_host}/{mysql_database}')\n",
    "\n",
    "# Read tables from SQLite and write to MySQL\n",
    "tables = pd.read_sql(\"SELECT name FROM sqlite_master WHERE type='table';\", sqlite_conn)\n",
    "for table in tables['name']:\n",
    "    df = pd.read_sql(f'SELECT * FROM {table};', sqlite_conn)\n",
    "    df.to_sql(table, con=mysql_engine, if_exists='replace', index=False)\n",
    "\n",
    "# Close the SQLite connection\n",
    "sqlite_conn.close()\n",
    "\n",
    "print(\"Data transferred from SQLite to MySQL successfully!\")"
   ]
  },
  {
   "cell_type": "code",
   "execution_count": 14,
   "id": "a50b42f4-76a0-43cf-8a9c-9823c2639924",
   "metadata": {},
   "outputs": [
    {
     "name": "stdout",
     "output_type": "stream",
     "text": [
      "1.4.6\n"
     ]
    }
   ],
   "source": [
    "import pymysql\n",
    "print(pymysql.__version__)"
   ]
  },
  {
   "cell_type": "code",
   "execution_count": null,
   "id": "5cc2dc8c-3e3a-448f-bff3-108e5929900b",
   "metadata": {},
   "outputs": [],
   "source": []
  }
 ],
 "metadata": {
  "kernelspec": {
   "display_name": "Python [conda env:base] *",
   "language": "python",
   "name": "conda-base-py"
  },
  "language_info": {
   "codemirror_mode": {
    "name": "ipython",
    "version": 3
   },
   "file_extension": ".py",
   "mimetype": "text/x-python",
   "name": "python",
   "nbconvert_exporter": "python",
   "pygments_lexer": "ipython3",
   "version": "3.12.2"
  }
 },
 "nbformat": 4,
 "nbformat_minor": 5
}
